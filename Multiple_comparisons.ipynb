{
  "nbformat": 4,
  "nbformat_minor": 0,
  "metadata": {
    "colab": {
      "provenance": [],
      "authorship_tag": "ABX9TyMKy1o+xwWMKc+SXyCc4foF",
      "include_colab_link": true
    },
    "kernelspec": {
      "name": "python3",
      "display_name": "Python 3"
    },
    "language_info": {
      "name": "python"
    }
  },
  "cells": [
    {
      "cell_type": "markdown",
      "metadata": {
        "id": "view-in-github",
        "colab_type": "text"
      },
      "source": [
        "<a href=\"https://colab.research.google.com/github/emmanoel43/NGG6050/blob/main/Multiple_comparisons.ipynb\" target=\"_parent\"><img src=\"https://colab.research.google.com/assets/colab-badge.svg\" alt=\"Open In Colab\"/></a>"
      ]
    },
    {
      "cell_type": "code",
      "execution_count": 9,
      "metadata": {
        "colab": {
          "base_uri": "https://localhost:8080/"
        },
        "id": "Ws00O28edUCO",
        "outputId": "ced026c5-3df7-4e7a-930b-48c33206849c"
      },
      "outputs": [
        {
          "output_type": "stream",
          "name": "stdout",
          "text": [
            "t-statistic:  -0.3519578988420773\n",
            "p-value:  0.7249440640082334\n",
            "corrected p-values: Benjamini Hochberg [0.72494406]\n",
            "corrected p-values: Bonferroni [0.72494406]\n",
            "***\n",
            "t-statistic:  -21.42534155876339\n",
            "p-value:  4.279680118616219e-84\n",
            "corrected p-values: Benjamini Hochberg [4.27968012e-84]\n",
            "corrected p-values: Bonferroni [4.27968012e-84]\n"
          ]
        }
      ],
      "source": [
        "# Correcting for multiple comparisons with Benjamni-Hochberg procedure vs. Bonferroni correction\n",
        "import numpy as np\n",
        "import scipy.stats as stats\n",
        "from statsmodels.stats.multitest import multipletests\n",
        "\n",
        "# Simulate 1000 t-tests between two samples (two sample paired t-test)\n",
        "# Random samples\n",
        "n_tests = 1000\n",
        "mean = 5 #equal means\n",
        "std_dev = 1 #equal standard deviation\n",
        "x1 = np.random.normal(mean, std_dev, n_tests)\n",
        "x2 = np.random.normal(mean, std_dev, n_tests)\n",
        "\n",
        "# Computing t-statistic and p-value for paired t-test\n",
        "t_stat, p_value = stats.ttest_rel(x1, x2)\n",
        "\n",
        "# Print\n",
        "print (\"t-statistic: \", t_stat)\n",
        "print (\"p-value: \", p_value)\n",
        "\n",
        "# Applying multiple comparisons corrections\n",
        "# Benjamini Hochberg\n",
        "alpha1 = 0.05\n",
        "reject, corrected_p_values, _, _ = multipletests(p_value, alpha=alpha1, method='fdr_bh')\n",
        "print (\"corrected p-values: Benjamini Hochberg\", corrected_p_values)\n",
        "\n",
        "# Bonferroni\n",
        "alpha2 = 0.05/n_tests\n",
        "reject, corrected_p_values, _, _ = multipletests(p_value, alpha=alpha2, method='bonferroni')\n",
        "print (\"corrected p-values: Bonferroni\", corrected_p_values)\n",
        "print (\"***\")\n",
        "\n",
        "# Using means of 1 and 2\n",
        "mean1 = 1\n",
        "mean2 = 2\n",
        "\n",
        "# Generating new p-values using t-test\n",
        "x1 = np.random.normal(mean1, std_dev, n_tests)\n",
        "x2 = np.random.normal(mean2, std_dev, n_tests)\n",
        "t_stat, p_value = stats.ttest_rel(x1, x2)\n",
        "print (\"t-statistic: \", t_stat)\n",
        "print (\"p-value: \", p_value)\n",
        "\n",
        "# Benjamini Hochberg\n",
        "alpha1 = 0.05\n",
        "reject, corrected_p_values, _, _ = multipletests(p_value, alpha=alpha1, method='fdr_bh')\n",
        "print (\"corrected p-values: Benjamini Hochberg\", corrected_p_values)\n",
        "\n",
        "# Bonferroni\n",
        "alpha2 = 0.05/n_tests\n",
        "reject, corrected_p_values, _, _ = multipletests(p_value, alpha=alpha2, method='bonferroni')\n",
        "print (\"corrected p-values: Bonferroni\", corrected_p_values)\n",
        "\n"
      ]
    }
  ]
}