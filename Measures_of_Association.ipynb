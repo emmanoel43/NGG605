{
  "nbformat": 4,
  "nbformat_minor": 0,
  "metadata": {
    "colab": {
      "provenance": [],
      "authorship_tag": "ABX9TyMJ+Xo3ooHRpuX7Ia33ypWE",
      "include_colab_link": true
    },
    "kernelspec": {
      "name": "python3",
      "display_name": "Python 3"
    },
    "language_info": {
      "name": "python"
    }
  },
  "cells": [
    {
      "cell_type": "markdown",
      "metadata": {
        "id": "view-in-github",
        "colab_type": "text"
      },
      "source": [
        "<a href=\"https://colab.research.google.com/github/emmanoel43/NGG6050/blob/main/Measures_of_Association.ipynb\" target=\"_parent\"><img src=\"https://colab.research.google.com/assets/colab-badge.svg\" alt=\"Open In Colab\"/></a>"
      ]
    },
    {
      "cell_type": "markdown",
      "source": [
        "Exercise 1: Wing length and tail length do look positively correlated."
      ],
      "metadata": {
        "id": "hKsfNsdUptzG"
      }
    },
    {
      "cell_type": "code",
      "execution_count": 13,
      "metadata": {
        "colab": {
          "base_uri": "https://localhost:8080/",
          "height": 472
        },
        "id": "yiwKnki4l2CA",
        "outputId": "4f0ee290-2390-4c10-c900-77eabba9b47e"
      },
      "outputs": [
        {
          "output_type": "display_data",
          "data": {
            "text/plain": [
              "<Figure size 640x480 with 1 Axes>"
            ],
            "image/png": "[encoded data removed]"
          },
          "metadata": {}
        }
      ],
      "source": [
        "# Plot x verus y\n",
        "import matplotlib.pyplot as plt\n",
        "import numpy as np\n",
        "\n",
        "# Given x and y values\n",
        "x = [10.4, 10.8, 11.1, 10.2, 10.3, 10.2, 10.7, 10.5, 10.8, 11.2, 10.6, 11.4]\n",
        "y = [7.4, 7.6, 7.9, 7.2, 7.4, 7.1, 7.4, 7.2, 7.8, 7.7, 7.8, 8.3]\n",
        "\n",
        "# Calculate linear regression\n",
        "slope, intercept = np.polyfit(x, y, 1)  #linear fit\n",
        "\n",
        "# Generate values for the best fit line\n",
        "x_fit = np.linspace(min(x), max(x), 100)\n",
        "y_fit = slope * x_fit + intercept\n",
        "\n",
        "# Create the plot with points and best fit line\n",
        "plt.plot(x, y, label='Data points', linestyle='none')  # Points\n",
        "plt.plot(x_fit, y_fit, label=f'Best fit line (y = {slope:.2f}x + {intercept:.2f})')  # Best fit line\n",
        "\n",
        "# Create the plot\n",
        "plt.plot(x, y, marker='o', linestyle='none' )\n",
        "\n",
        "# Add labels and title\n",
        "plt.xlabel(\"Wing length\")\n",
        "plt.ylabel(\"Tail Length\")\n",
        "plt.title('Plot of Wing Length vs Tail length')\n",
        "\n",
        "# Show the plot\n",
        "plt.grid(True)\n",
        "plt.show()"
      ]
    },
    {
      "cell_type": "markdown",
      "source": [
        "Exercise 2: Yes, the correlation coefficients appear to be the same with or without using a library."
      ],
      "metadata": {
        "id": "OgNKhmsVp2le"
      }
    },
    {
      "cell_type": "code",
      "source": [
        "# Sample pearsons correlation coefficient- w/o libraries\n",
        "# write out data\n",
        "x = [10.4, 10.8, 11.1, 10.2, 10.3, 10.2, 10.7, 10.5, 10.8, 11.2, 10.6, 11.4]\n",
        "y = [7.4, 7.6, 7.9, 7.2, 7.4, 7.1, 7.4, 7.2, 7.8, 7.7, 7.8, 8.3]\n",
        "\n",
        "# Number of pairs\n",
        "n = 12\n",
        "\n",
        "# Calculate sums\n",
        "sum_x = sum(x)\n",
        "sum_y = sum(y)\n",
        "sum_xy = sum(x[i] * y[i] for i in range(n))\n",
        "sum_x2 = sum(xi ** 2 for xi in x)\n",
        "sum_y2 = sum(yi ** 2 for yi in y)\n",
        "\n",
        "# Calculate Pearson correlation coefficient\n",
        "numerator = n * sum_xy - sum_x * sum_y\n",
        "denominator = ((n * sum_x2 - sum_x ** 2) * (n * sum_y2 - sum_y ** 2)) ** 0.5\n",
        "\n",
        "# Avoid division by zero\n",
        "if denominator == 0:\n",
        "    r = 0\n",
        "else:\n",
        "    r = numerator / denominator\n",
        "\n",
        "print(\"Pearson correlation coefficient:\", r)\n",
        "\n",
        "# Sample pearsons correlation coefficient using corrcoef\n",
        "import numpy as np\n",
        "\n",
        "# Data\n",
        "x = [10.4, 10.8, 11.1, 10.2, 10.3, 10.2, 10.7, 10.5, 10.8, 11.2, 10.6, 11.4]\n",
        "y = [7.4, 7.6, 7.9, 7.2, 7.4, 7.1, 7.4, 7.2, 7.8, 7.7, 7.8, 8.3]\n",
        "\n",
        "# Calculate Pearson correlation coefficient\n",
        "r = np.corrcoef(x, y)[0, 1]\n",
        "\n",
        "print(\"Pearson correlation coefficient:\", r)"
      ],
      "metadata": {
        "colab": {
          "base_uri": "https://localhost:8080/"
        },
        "id": "abr7k5xfp3xC",
        "outputId": "88bf0503-1a57-407e-d684-1d2fa5b10296"
      },
      "execution_count": 15,
      "outputs": [
        {
          "output_type": "stream",
          "name": "stdout",
          "text": [
            "Pearson correlation coefficient: 0.8703545613057869\n",
            "Pearson correlation coefficient: 0.8703545613058227\n"
          ]
        }
      ]
    },
    {
      "cell_type": "markdown",
      "source": [],
      "metadata": {
        "id": "gmS2hVqrps9x"
      }
    },
    {
      "cell_type": "markdown",
      "source": [
        "Exercise 3"
      ],
      "metadata": {
        "id": "6GfUIOZxsDMt"
      }
    },
    {
      "cell_type": "code",
      "source": [
        "# Calculate standard error of correlation coefficient\n",
        "r = 0.87035\n",
        "n = 12\n",
        "\n",
        "# Calculate standard error of r\n",
        "SE_r = np.sqrt((1 - r**2) / (n - 2))\n",
        "print(\"Standard error of correlation coefficient:\", SE_r)\n",
        "\n",
        "# z-score calculation; since confidence interval is 95%, z-score is 1.96\n",
        "# confidence interval calculation\n",
        "lower_bound = 10 - 1.96 * SE_r\n",
        "upper_bound = 10 + 1.96 * SE_r\n",
        "print(f\"Sample size: {n}, 95% confidence interval: ({lower_bound}, {upper_bound})\")"
      ],
      "metadata": {
        "colab": {
          "base_uri": "https://localhost:8080/"
        },
        "id": "n9J7M_SwsE7b",
        "outputId": "85625b9f-777f-43d2-abef-253600235a48"
      },
      "execution_count": 26,
      "outputs": [
        {
          "output_type": "stream",
          "name": "stdout",
          "text": [
            "Standard error of correlation coefficient: 0.15572118593820178\n",
            "Sample size: 12, 95% confidence interval: (9.694786475561125, 10.305213524438875)\n"
          ]
        }
      ]
    },
    {
      "cell_type": "markdown",
      "source": [
        "Exercise 4:"
      ],
      "metadata": {
        "id": "sGUrqgW7tzim"
      }
    },
    {
      "cell_type": "code",
      "source": [],
      "metadata": {
        "id": "649xAUSntzHt"
      },
      "execution_count": null,
      "outputs": []
    }
  ]
}