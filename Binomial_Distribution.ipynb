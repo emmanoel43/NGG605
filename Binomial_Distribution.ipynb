{
  "nbformat": 4,
  "nbformat_minor": 0,
  "metadata": {
    "colab": {
      "provenance": []
    },
    "kernelspec": {
      "name": "python3",
      "display_name": "Python 3"
    },
    "language_info": {
      "name": "python"
    }
  },
  "cells": [
    {
      "cell_type": "code",
      "execution_count": null,
      "metadata": {
        "id": "t7N-Vl66t_uJ",
        "colab": {
          "base_uri": "https://localhost:8080/"
        },
        "outputId": "b96b9e36-52c5-4390-9e23-8093ddf72812"
      },
      "outputs": [
        {
          "output_type": "stream",
          "name": "stdout",
          "text": [
            "Probability of 0 quanta released: 0.1074\n",
            "Probability of 1 quanta released: 0.2684\n",
            "Probability of 2 quanta released: 0.3020\n",
            "Probability of 3 quanta released: 0.2013\n",
            "Probability of 4 quanta released: 0.0881\n",
            "Probability of 5 quanta released: 0.0264\n",
            "Probability of 6 quanta released: 0.0055\n",
            "Probability of 7 quanta released: 0.0008\n",
            "Probability of 8 quanta released: 0.0001\n",
            "Probability of 9 quanta released: 0.0000\n",
            "Probability of 10 quanta released: 0.0000\n"
          ]
        }
      ],
      "source": [
        "# Exercise 1\n",
        "# Assume that there are 10 quanta available in a nerve terminal, and for a given release event each is released with a probability of 0.2. For one such event, what is the probability that 0, 1, 2, 3, 4, 5, 6, 7, 8, 9, or 10 quanta will be released?\n",
        "from scipy.stats import binom\n",
        "\n",
        "n = 10  # number of quanta\n",
        "p = 0.2 # probability of release\n",
        "\n",
        "for k in range(n + 1):\n",
        "  prob = binom.pmf(k, n, p)\n",
        "  print(f\"Probability of {k} quanta released: {prob:.4f}\")"
      ]
    },
    {
      "cell_type": "code",
      "source": [
        "# Exercise 2\n",
        "from scipy.stats import binom\n",
        "\n",
        "# Number of quanta and the observed release count\n",
        "n = 14  # number of quanta\n",
        "k = 8   # number of quanta released\n",
        "\n",
        "# Probability of release for each quanta\n",
        "p = 0.1  # 10% probability of release\n",
        "\n",
        "# Calculate the probability of getting exactly 8 successes in 10 trials\n",
        "probability = binom.pmf(k, n, p)\n",
        "\n",
        "# Print the probability of getting exactly 8 successes in 10 trials\n",
        "print(f\"Probability of getting exactly {k} quanta released: {probability:}\")\n",
        "\n",
        "# Define the range of probabilities to test\n",
        "probabilities = [0.1 * i for i in range(1, 11)]  # from 0.1 to 1.0 in steps of 0.1\n",
        "\n",
        "# Dictionary to hold the probabilities of getting exactly k releases\n",
        "probability_distribution = {}\n",
        "\n",
        "for p in probabilities:\n",
        "    # Calculate the probability of getting exactly k successes in n trials\n",
        "    probability = binom.pmf(k, n, p)\n",
        "    probability_distribution[p] = probability\n",
        "\n",
        "# Print out the probabilities for each release probability\n",
        "print(\"Release Probability\")\n",
        "print(\"*\")\n",
        "for p, prob in probability_distribution.items():\n",
        "    print(f\"{p:.2f} | {prob:.4f}\")\n",
        "\n",
        "# Find the probability with the highest value\n",
        "most_probable_p = max(probability_distribution, key=probability_distribution.get)\n",
        "most_probable_value = probability_distribution[most_probable_p]\n",
        "\n",
        "print(f\"Most probable release probability given the measurement: {most_probable_p:.2f}\")\n",
        "print(f\"Probability: {most_probable_value:.4f}\")\n"
      ],
      "metadata": {
        "colab": {
          "base_uri": "https://localhost:8080/"
        },
        "id": "o6ZoHRySu0V4",
        "outputId": "ef1883fc-3761-4be7-c5bd-64447da12976"
      },
      "execution_count": 10,
      "outputs": [
        {
          "output_type": "stream",
          "name": "stdout",
          "text": [
            "Probability of getting exactly 8 quanta released: 1.5959173230000027e-05\n",
            "Release Probability\n",
            "*\n",
            "0.10 | 0.0000\n",
            "0.20 | 0.0020\n",
            "0.30 | 0.0232\n",
            "0.40 | 0.0918\n",
            "0.50 | 0.1833\n",
            "0.60 | 0.2066\n",
            "0.70 | 0.1262\n",
            "0.80 | 0.0322\n",
            "0.90 | 0.0013\n",
            "1.00 | 0.0000\n",
            "Most probable release probability given the measurement: 0.60\n",
            "Probability: 0.2066\n"
          ]
        }
      ]
    },
    {
      "cell_type": "code",
      "source": [
        "# Exercise 3\n",
        "from scipy.stats import binom\n",
        "import numpy as np\n",
        "\n",
        "# Variables\n",
        "n = 14  # number of quanta\n",
        "p = 0.1  # assumed release probability\n",
        "k1 = 8  # number of quanta released in the first experiment\n",
        "k2 = 5  # number of quanta released in the second experiment\n",
        "\n",
        "# Likelihood for each experiment alone\n",
        "likelihood1 = binom.pmf(k1, n, p)\n",
        "likelihood2 = binom.pmf(k2, n, p)\n",
        "\n",
        "# Product of individual likelihoods\n",
        "total_likelihood = likelihood1 * likelihood2\n",
        "\n",
        "# Compute log-likelihoods\n",
        "log_likelihood1 = np.log(likelihood1)\n",
        "log_likelihood2 = np.log(likelihood2)\n",
        "\n",
        "# Total log-likelihood\n",
        "total_log_likelihood = log_likelihood1 + log_likelihood2\n",
        "\n",
        "# Results\n",
        "print(f\"Likelihood of observing {k1} quanta released: {likelihood1}\")\n",
        "print(f\"Likelihood of observing {k2} quanta released: {likelihood2:.6f}\")\n",
        "print(f\"Total likelihood: {total_likelihood}\")\n",
        "print(f\"Total log-likelihood: {total_log_likelihood:.2f}\")\n",
        "\n",
        "# Compute likelihood and log-likelihood for p in range (0, 1.1, 0.1)\n",
        "p_values = np.arange(0, 1.1, 0.1)\n",
        "for p in p_values:\n",
        "    likelihood = binom.pmf(k1, n, p) * binom.pmf(k2, n, p)\n",
        "    print(f\"Likelihood for p={p}: {likelihood}\")\n",
        "    log_likelihood = np.log(likelihood)\n",
        "    print(f\"Log-likelihood for p={p}: {log_likelihood}\")\n",
        "\n",
        "# Maximum value\n",
        "print (\"Maximum value: likelihood: p=0.5;0.022, log-likelihood;p=0.5;-3.79\")\n"
      ],
      "metadata": {
        "colab": {
          "base_uri": "https://localhost:8080/"
        },
        "id": "7qn6o3LTvHR6",
        "outputId": "aa75a030-6bf1-4829-83da-4743d6502925"
      },
      "execution_count": 19,
      "outputs": [
        {
          "output_type": "stream",
          "name": "stdout",
          "text": [
            "Likelihood of observing 8 quanta released: 1.5959173230000027e-05\n",
            "Likelihood of observing 5 quanta released: 0.007756\n",
            "Total likelihood: 1.2378187214998254e-07\n",
            "Total log-likelihood: -15.90\n",
            "Likelihood for p=0.0: 0.0\n",
            "Log-likelihood for p=0.0: -inf\n",
            "Likelihood for p=0.1: 1.2378187214998254e-07\n",
            "Log-likelihood for p=0.1: -15.90474491593149\n",
            "Likelihood for p=0.2: 0.0001732842750806352\n",
            "Log-likelihood for p=0.2: -8.660577103497953\n",
            "Likelihood for p=0.30000000000000004: 0.00455057542282908\n",
            "Log-likelihood for p=0.30000000000000004: -5.392501587459657\n",
            "Likelihood for p=0.4: 0.01897003133922153\n",
            "Log-likelihood for p=0.4: -3.9648948429953808\n",
            "Likelihood for p=0.5: 0.022396467626094804\n",
            "Log-likelihood for p=0.5: -3.798852027819973\n",
            "Likelihood for p=0.6000000000000001: 0.00843112503965401\n",
            "Log-likelihood for p=0.6000000000000001: -4.7758250592117095\n",
            "Likelihood for p=0.7000000000000001: 0.0008358199756216637\n",
            "Log-likelihood for p=0.7000000000000001: -7.087097308234069\n",
            "Likelihood for p=0.8: 1.0830267192539667e-05\n",
            "Log-likelihood for p=0.8: -11.433165825737737\n",
            "Likelihood for p=0.9: 1.5281712611108898e-09\n",
            "Log-likelihood for p=0.9: -20.29919407060393\n",
            "Likelihood for p=1.0: 0.0\n",
            "Log-likelihood for p=1.0: -inf\n",
            "Maximum value: likelihood: p=0.5;0.022, log-likelihood;p=0.5;-3.79\n"
          ]
        },
        {
          "output_type": "stream",
          "name": "stderr",
          "text": [
            "<ipython-input-19-aa4f8ddd946c>:36: RuntimeWarning: divide by zero encountered in log\n",
            "  log_likelihood = np.log(likelihood)\n"
          ]
        }
      ]
    },
    {
      "cell_type": "code",
      "source": [
        "# Exercise 4\n",
        "# Data: Measured release and count\n",
        "measured_releases = [0, 1, 2, 3, 4, 5, 6, 7, 8, 9, 10, 11, 12, 13, 14]\n",
        "counts = [0, 0, 3, 7, 10, 19, 26, 16, 16, 5, 5, 0, 0, 0, 0]\n",
        "total_observations = 100\n",
        "available_quanta = 14\n",
        "\n",
        "# Calculate total releases\n",
        "for i in range(len(measured_releases)):\n",
        "    total_releases = sum([measured_releases[i] * counts[i] for i in range(len(measured_releases))])\n",
        "\n",
        "# Calculate average releases per experiment\n",
        "average_releases = total_releases / total_observations\n",
        "\n",
        "# Calculate p-hat\n",
        "p_hat = average_releases / available_quanta\n",
        "\n",
        "# Print p-hat\n",
        "print(f\"Most likely value of p-hat: {p_hat:.2f}\")"
      ],
      "metadata": {
        "colab": {
          "base_uri": "https://localhost:8080/"
        },
        "id": "zQPfFnFbfAR1",
        "outputId": "3eb9a873-88c7-4ac7-8ee2-9b6ce71f320a"
      },
      "execution_count": 28,
      "outputs": [
        {
          "output_type": "stream",
          "name": "stdout",
          "text": [
            "Most likely value of p-hat: 0.47\n"
          ]
        }
      ]
    },
    {
      "cell_type": "code",
      "source": [
        "# Extra exercise 4\n",
        "import numpy as np\n",
        "from scipy.stats import poisson\n",
        "from scipy.optimize import minimize\n",
        "import matplotlib.pyplot as plt\n",
        "\n",
        "# Data: Measured results\n",
        "measured_results = np.array([0, 1, 2, 3, 4, 5, 6, 7, 8, 9, 10, 11, 12, 13, 14])\n",
        "counts = np.array([0, 0, 3, 7, 10, 19, 26, 16, 16, 5, 5, 0, 0, 0, 0])\n",
        "total_observations = 100\n",
        "\n",
        "# Define the negative log-likelihood\n",
        "def negative_log_likelihood(lambda_):\n",
        "    return -np.sum(counts * poisson.logpmf(measured_results, lambda_))\n",
        "\n",
        "# Initial guess? Not really sure how right this is\n",
        "initial_guess = np.mean(measured_results)\n",
        "\n",
        "# Max likelihood\n",
        "result = minimize(negative_log_likelihood, initial_guess, bounds=[(0, None)])\n",
        "lambda_hat = result.x[0]\n",
        "print(f\"Estimated lambda (mean of Poisson distribution): {lambda_hat:.2f}\")\n",
        "\n",
        "# Results plot\n",
        "x = np.arange(0, max(measured_results) + 1)\n",
        "plt.figure(figsize=(10, 6))\n",
        "plt.bar(measured_results, counts / total_observations, label='Observed Frequencies')\n",
        "plt.plot(x, poisson.pmf(x, lambda_hat), 'r-', label=f'Fitted Poisson Distribution (lambda={lambda_hat:.2f})')\n",
        "plt.xlabel('Measured Results')\n",
        "plt.ylabel('Proportion')\n",
        "plt.title('Poisson Distribution Fit')\n",
        "plt.legend()\n",
        "plt.show()\n",
        "\n",
        "# Most likely value of p-hat\n",
        "p_hat = lambda_hat / max(measured_results)\n",
        "print(f\"Most likely value of p-hat: {p_hat:.2f}\")\n"
      ],
      "metadata": {
        "colab": {
          "base_uri": "https://localhost:8080/",
          "height": 538
        },
        "id": "v5bC8P_4RgUV",
        "outputId": "c0cb3dd7-7cfb-427a-962f-0d02245c68fe"
      },
      "execution_count": 20,
      "outputs": [
        {
          "output_type": "stream",
          "name": "stdout",
          "text": [
            "Estimated lambda (mean of Poisson distribution): 6.10\n"
          ]
        },
        {
          "output_type": "display_data",
          "data": {
            "text/plain": [
              "<Figure size 1000x600 with 1 Axes>"
            ],
            "image/png": "[encoded data removed]"
          },
          "metadata": {}
        },
        {
          "output_type": "stream",
          "name": "stdout",
          "text": [
            "Most likely value of p-hat: 0.44\n"
          ]
        }
      ]
    },
    {
      "cell_type": "code",
      "source": [
        "# Experiment 5\n",
        "from scipy.stats import binom\n",
        "\n",
        "# Experiment for release probability at higher temperature (p-hat)\n",
        "Total_successes = 7\n",
        "Total_available_quanta = 14\n",
        "p = Total_successes / Total_available_quanta\n",
        "print(f\"Most likely value of p: {p:.2f}\")\n",
        "\n",
        "# Probability of getting 7 successes in 14 trials when p= 0.3 (null hypothesis)\n",
        "n = 14  # total number of quanta\n",
        "k = 7   # number of quanta released\n",
        "p = 0.3  # release probability under the null hypothesis\n",
        "\n",
        "# Calculate the probability\n",
        "probability = binom.pmf(k, n, p)\n",
        "\n",
        "print(f\"Probability of getting exactly {k} quanta released (given null hypothesis): {probability:.4f}\")\n",
        "\n",
        "# Probability of obtaining the measurement given null hypothesis is false\n",
        "\n",
        "# Variables\n",
        "n = 14  # total number of quanta\n",
        "k = 7  # number of quanta released\n",
        "p = 0.3  # release probability under the null hypothesis\n",
        "\n",
        "# Compute the p-value for observing 7 or more successes\n",
        "p_value = binom.sf(k-1, n, p0)  # sf is the survival function, which is 1 - cdf\n",
        "\n",
        "# Display the result\n",
        "print(f\"The p-value for observing 7 or more quantal events out of 14 is: {p_value:.4f}\")\n",
        "print(\"Cannot conclude that tempature had an effect given p>0.05\")\n",
        "\n",
        "\n"
      ],
      "metadata": {
        "colab": {
          "base_uri": "https://localhost:8080/"
        },
        "id": "_LcSid6gT-Er",
        "outputId": "2608323b-bcdb-44ce-b84e-d9bd1d8f3701"
      },
      "execution_count": 5,
      "outputs": [
        {
          "output_type": "stream",
          "name": "stdout",
          "text": [
            "Most likely value of p: 0.50\n",
            "Probability of getting exactly 7 quanta released (given null hypothesis): 0.0618\n",
            "The p-value for observing 7 or more quantal events out of 14 is: 0.0933\n",
            "Cannot conclude that tempature had an effect given p>0.05\n"
          ]
        }
      ]
    }
  ]
}